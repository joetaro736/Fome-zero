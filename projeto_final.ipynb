{
 "cells": [
  {
   "cell_type": "code",
   "execution_count": 4,
   "id": "7c554389",
   "metadata": {},
   "outputs": [],
   "source": [
    "import pandas as pd"
   ]
  },
  {
   "cell_type": "code",
   "execution_count": 5,
   "id": "6b345386",
   "metadata": {},
   "outputs": [],
   "source": [
    "df = pd.read_csv('zomato.csv')"
   ]
  },
  {
   "cell_type": "code",
   "execution_count": 6,
   "id": "e944da3e",
   "metadata": {},
   "outputs": [],
   "source": [
    "COUNTRIES = {\n",
    "1: \"India\",\n",
    "14: \"Australia\",\n",
    "30: \"Brazil\",\n",
    "37: \"Canada\",\n",
    "94: \"Indonesia\",\n",
    "148: \"New Zeland\",\n",
    "162: \"Philippines\",\n",
    "166: \"Qatar\",\n",
    "184: \"Singapure\",\n",
    "189: \"South Africa\",\n",
    "191: \"Sri Lanka\",\n",
    "208: \"Turkey\",\n",
    "214: \"United Arab Emirates\",\n",
    "215: \"England\",\n",
    "216: \"United States of America\",\n",
    "}\n",
    "def country_name(country_id):\n",
    "    return COUNTRIES[country_id]\n",
    "df['Country Name'] = df['Country Code'].apply(country_name)"
   ]
  },
  {
   "cell_type": "markdown",
   "id": "e06eff82",
   "metadata": {},
   "source": [
    "# Geral"
   ]
  },
  {
   "cell_type": "markdown",
   "metadata": {},
   "source": [
    "## Restaurantes únicos"
   ]
  },
  {
   "cell_type": "code",
   "execution_count": null,
   "id": "36db41c7",
   "metadata": {},
   "outputs": [],
   "source": [
    "df['Restaurant Name']"
   ]
  },
  {
   "cell_type": "code",
   "execution_count": 3,
   "id": "ca9cbc5c",
   "metadata": {},
   "outputs": [
    {
     "data": {
      "text/plain": [
       "6942"
      ]
     },
     "execution_count": 3,
     "metadata": {},
     "output_type": "execute_result"
    }
   ],
   "source": [
    "df['Restaurant ID'].nunique()"
   ]
  },
  {
   "cell_type": "markdown",
   "id": "d9c77bfd",
   "metadata": {},
   "source": [
    "## Quantos países únicos estão registrados"
   ]
  },
  {
   "cell_type": "code",
   "execution_count": 4,
   "id": "4a48c3af",
   "metadata": {},
   "outputs": [
    {
     "data": {
      "text/plain": [
       "15"
      ]
     },
     "execution_count": 4,
     "metadata": {},
     "output_type": "execute_result"
    }
   ],
   "source": [
    "df['Country Code'].nunique()"
   ]
  },
  {
   "cell_type": "markdown",
   "id": "b2ff49c8",
   "metadata": {},
   "source": [
    "## Quantas cidades únicas estão registradas"
   ]
  },
  {
   "cell_type": "code",
   "execution_count": 5,
   "id": "e4c3240c",
   "metadata": {},
   "outputs": [
    {
     "data": {
      "text/plain": [
       "125"
      ]
     },
     "execution_count": 5,
     "metadata": {},
     "output_type": "execute_result"
    }
   ],
   "source": [
    "df['City'].nunique()"
   ]
  },
  {
   "cell_type": "markdown",
   "id": "f16ae0ff",
   "metadata": {},
   "source": [
    "## Qual o total de avaliações feitas"
   ]
  },
  {
   "cell_type": "code",
   "execution_count": null,
   "id": "0a7d5861",
   "metadata": {},
   "outputs": [
    {
     "data": {
      "text/plain": [
       "Rating text\n",
       "Excellent    2\n",
       "Name: count, dtype: int64"
      ]
     },
     "execution_count": 119,
     "metadata": {},
     "output_type": "execute_result"
    }
   ],
   "source": [
    "df_aux = (df.loc[:, ['Rating color', 'Restaurant ID']].groupby('Restaurant ID').agg({'Rating color' : 'count'}).reset_index())\n",
    "df_aux2=sum(df_aux['Rating color'])\n"
   ]
  },
  {
   "cell_type": "markdown",
   "id": "b53e360a",
   "metadata": {},
   "source": [
    "## Qual o total de tipos de culinária registrados"
   ]
  },
  {
   "cell_type": "code",
   "execution_count": 121,
   "id": "d3b4153b",
   "metadata": {},
   "outputs": [
    {
     "data": {
      "text/plain": [
       "0                                        BF International\n",
       "1                                        BF International\n",
       "2       Ayala Triangle Gardens, Salcedo Village, Makat...\n",
       "3       Ayala Triangle Gardens, Salcedo Village, Makat...\n",
       "4               Century City Mall, Poblacion, Makati City\n",
       "                              ...                        \n",
       "7522                  Zorlu Center AVM, Levazım, Beşiktaş\n",
       "7523                                     Çengelköy Merkez\n",
       "7524                                     Çengelköy Merkez\n",
       "7525                                       Üsküdar Merkez\n",
       "7526                                       Üsküdar Merkez\n",
       "Name: Locality, Length: 7527, dtype: object"
      ]
     },
     "execution_count": 121,
     "metadata": {},
     "output_type": "execute_result"
    }
   ],
   "source": [
    "df['Locality']"
   ]
  },
  {
   "cell_type": "code",
   "execution_count": 83,
   "id": "da29f66c",
   "metadata": {},
   "outputs": [
    {
     "name": "stdout",
     "output_type": "stream",
     "text": [
      "<class 'pandas.core.frame.DataFrame'>\n",
      "RangeIndex: 7527 entries, 0 to 7526\n",
      "Data columns (total 22 columns):\n",
      " #   Column                Non-Null Count  Dtype  \n",
      "---  ------                --------------  -----  \n",
      " 0   Restaurant ID         7527 non-null   int64  \n",
      " 1   Restaurant Name       7527 non-null   object \n",
      " 2   Country Code          7527 non-null   int64  \n",
      " 3   City                  7527 non-null   object \n",
      " 4   Address               7527 non-null   object \n",
      " 5   Locality              7527 non-null   object \n",
      " 6   Locality Verbose      7527 non-null   object \n",
      " 7   Longitude             7527 non-null   float64\n",
      " 8   Latitude              7527 non-null   float64\n",
      " 9   Cuisines              7527 non-null   object \n",
      " 10  Average Cost for two  7527 non-null   int64  \n",
      " 11  Currency              7527 non-null   object \n",
      " 12  Has Table booking     7527 non-null   int64  \n",
      " 13  Has Online delivery   7527 non-null   int64  \n",
      " 14  Is delivering now     7527 non-null   int64  \n",
      " 15  Switch to order menu  7527 non-null   int64  \n",
      " 16  Price range           7527 non-null   int64  \n",
      " 17  Aggregate rating      7527 non-null   float64\n",
      " 18  Rating color          7527 non-null   object \n",
      " 19  Rating text           7527 non-null   object \n",
      " 20  Votes                 7527 non-null   int64  \n",
      " 21  Country Name          7527 non-null   object \n",
      "dtypes: float64(3), int64(9), object(10)\n",
      "memory usage: 1.3+ MB\n"
     ]
    }
   ],
   "source": [
    "df.info()"
   ]
  },
  {
   "cell_type": "code",
   "execution_count": null,
   "id": "01e2fa0c",
   "metadata": {},
   "outputs": [
    {
     "data": {
      "text/plain": [
       "166"
      ]
     },
     "execution_count": 82,
     "metadata": {},
     "output_type": "execute_result"
    }
   ],
   "source": [
    "df['Cuisines'] = df.loc[df['Cuisines']!='NaN', 'Cuisines'].apply(lambda x: str(x).split(\",\")[0])\n",
    "df['Cuisines'].nunique()"
   ]
  },
  {
   "cell_type": "markdown",
   "metadata": {},
   "source": [
    "# País"
   ]
  },
  {
   "cell_type": "markdown",
   "id": "cf8faec8",
   "metadata": {},
   "source": [
    "## Qual o nome do país que possui mais cidades registradas"
   ]
  },
  {
   "cell_type": "code",
   "execution_count": 7,
   "id": "567873be",
   "metadata": {},
   "outputs": [
    {
     "name": "stdout",
     "output_type": "stream",
     "text": [
      "O nome do país com mais cidades é  0                    Australia\n",
      "1                       Brazil\n",
      "2                       Canada\n",
      "3                      England\n",
      "4                        India\n",
      "5                    Indonesia\n",
      "6                   New Zeland\n",
      "7                  Philippines\n",
      "8                        Qatar\n",
      "9                    Singapure\n",
      "10                South Africa\n",
      "11                   Sri Lanka\n",
      "12                      Turkey\n",
      "13        United Arab Emirates\n",
      "14    United States of America\n",
      "Name: Country Name, dtype: object\n"
     ]
    }
   ],
   "source": [
    "df_aux = df.loc[:, ['Country Name', 'City']].groupby('Country Name').count().reset_index()\n",
    "df_aux2 = df_aux.loc[:, :]\n",
    "print(f'O nome do país com mais cidades é  {df_aux2['Country Name']}')"
   ]
  },
  {
   "cell_type": "markdown",
   "id": "632d8622",
   "metadata": {},
   "source": [
    "## Qual o nome do país que possui mais restaurantes registrados"
   ]
  },
  {
   "cell_type": "code",
   "execution_count": 61,
   "id": "f9800577",
   "metadata": {},
   "outputs": [
    {
     "name": "stdout",
     "output_type": "stream",
     "text": [
      "O nome do país com mais restaurantes é  India\n"
     ]
    }
   ],
   "source": [
    "df_aux = df.loc[:, ['Country Name', 'Restaurant ID']].groupby('Country Name').count().reset_index()\n",
    "df_aux2 = df_aux.loc[df_aux['Restaurant ID'] == df_aux['Restaurant ID'].max(), :]\n",
    "print(f'O nome do país com mais restaurantes é  {df_aux2['Country Name'].max()}')"
   ]
  },
  {
   "cell_type": "code",
   "execution_count": 8,
   "id": "d5e075e0",
   "metadata": {},
   "outputs": [
    {
     "data": {
      "text/plain": [
       "3"
      ]
     },
     "execution_count": 8,
     "metadata": {},
     "output_type": "execute_result"
    }
   ],
   "source": [
    "df_pais = df.loc[df['Country Name'] == 'Brazil', :]\n",
    "df_pais['City'].nunique()"
   ]
  },
  {
   "cell_type": "code",
   "execution_count": 36,
   "id": "bef49c94",
   "metadata": {},
   "outputs": [
    {
     "data": {
      "text/plain": [
       "Restaurant ID                                                     6310675\n",
       "Restaurant Name                                Mama Lou's Italian Kitchen\n",
       "Country Code                                                          162\n",
       "City                                                       Las Piñas City\n",
       "Address                 Block 1, Lot 36, Tropical Avenue Corner Tropic...\n",
       "Locality                                                 BF International\n",
       "Locality Verbose                         BF International, Las Piñas City\n",
       "Longitude                                                      121.009787\n",
       "Latitude                                                        14.447615\n",
       "Cuisines                                                          Italian\n",
       "Average Cost for two                                                 1100\n",
       "Currency                                                 Botswana Pula(P)\n",
       "Has Table booking                                                       1\n",
       "Has Online delivery                                                     0\n",
       "Is delivering now                                                       0\n",
       "Switch to order menu                                                    0\n",
       "Price range                                                             3\n",
       "Aggregate rating                                                      4.6\n",
       "Rating color                                                       3F7E00\n",
       "Rating text                                                     Excellent\n",
       "Votes                                                                 619\n",
       "Country Name                                                  Philippines\n",
       "Mean Ratings                                                            8\n",
       "Name: 0, dtype: object"
      ]
     },
     "execution_count": 36,
     "metadata": {},
     "output_type": "execute_result"
    }
   ],
   "source": [
    "df.loc[0, :]"
   ]
  },
  {
   "cell_type": "code",
   "execution_count": 9,
   "id": "7565e8f4",
   "metadata": {},
   "outputs": [],
   "source": [
    "df1 = df.copy()"
   ]
  },
  {
   "cell_type": "code",
   "execution_count": 14,
   "id": "b48607f9",
   "metadata": {},
   "outputs": [
    {
     "data": {
      "text/html": [
       "<div>\n",
       "<style scoped>\n",
       "    .dataframe tbody tr th:only-of-type {\n",
       "        vertical-align: middle;\n",
       "    }\n",
       "\n",
       "    .dataframe tbody tr th {\n",
       "        vertical-align: top;\n",
       "    }\n",
       "\n",
       "    .dataframe thead th {\n",
       "        text-align: right;\n",
       "    }\n",
       "</style>\n",
       "<table border=\"1\" class=\"dataframe\">\n",
       "  <thead>\n",
       "    <tr style=\"text-align: right;\">\n",
       "      <th></th>\n",
       "      <th>City</th>\n",
       "      <th>count</th>\n",
       "    </tr>\n",
       "  </thead>\n",
       "  <tbody>\n",
       "    <tr>\n",
       "      <th>53</th>\n",
       "      <td>Johannesburg South</td>\n",
       "      <td>1</td>\n",
       "    </tr>\n",
       "    <tr>\n",
       "      <th>57</th>\n",
       "      <td>Las Piñas City</td>\n",
       "      <td>1</td>\n",
       "    </tr>\n",
       "    <tr>\n",
       "      <th>40</th>\n",
       "      <td>Ghaziabad</td>\n",
       "      <td>1</td>\n",
       "    </tr>\n",
       "    <tr>\n",
       "      <th>38</th>\n",
       "      <td>Gandhinagar</td>\n",
       "      <td>1</td>\n",
       "    </tr>\n",
       "    <tr>\n",
       "      <th>100</th>\n",
       "      <td>Roodepoort</td>\n",
       "      <td>1</td>\n",
       "    </tr>\n",
       "    <tr>\n",
       "      <th>104</th>\n",
       "      <td>San Juan City</td>\n",
       "      <td>1</td>\n",
       "    </tr>\n",
       "    <tr>\n",
       "      <th>74</th>\n",
       "      <td>Muntinlupa City</td>\n",
       "      <td>1</td>\n",
       "    </tr>\n",
       "    <tr>\n",
       "      <th>68</th>\n",
       "      <td>Marikina City</td>\n",
       "      <td>1</td>\n",
       "    </tr>\n",
       "    <tr>\n",
       "      <th>123</th>\n",
       "      <td>Zirakpur</td>\n",
       "      <td>1</td>\n",
       "    </tr>\n",
       "    <tr>\n",
       "      <th>67</th>\n",
       "      <td>Manila</td>\n",
       "      <td>2</td>\n",
       "    </tr>\n",
       "  </tbody>\n",
       "</table>\n",
       "</div>"
      ],
      "text/plain": [
       "                   City  count\n",
       "53   Johannesburg South      1\n",
       "57       Las Piñas City      1\n",
       "40            Ghaziabad      1\n",
       "38          Gandhinagar      1\n",
       "100          Roodepoort      1\n",
       "104       San Juan City      1\n",
       "74      Muntinlupa City      1\n",
       "68        Marikina City      1\n",
       "123            Zirakpur      1\n",
       "67               Manila      2"
      ]
     },
     "execution_count": 14,
     "metadata": {},
     "output_type": "execute_result"
    }
   ],
   "source": [
    "df2 = (\n",
    "    df.loc[:, ['Restaurant ID', 'City']]\n",
    "      .groupby('City', sort=True)['Restaurant ID']  # garante ordenação por cidade\n",
    "      .nunique()\n",
    "      .reset_index(name='count')\n",
    "      .sort_values(by='count', ascending=True))\n",
    "df2.head(10)"
   ]
  },
  {
   "cell_type": "code",
   "execution_count": 7,
   "id": "776331d4",
   "metadata": {},
   "outputs": [
    {
     "data": {
      "text/plain": [
       "Restaurant ID                                                     6310675\n",
       "Restaurant Name                                Mama Lou's Italian Kitchen\n",
       "Country Code                                                          162\n",
       "City                                                       Las Piñas City\n",
       "Address                 Block 1, Lot 36, Tropical Avenue Corner Tropic...\n",
       "Locality                                                 BF International\n",
       "Locality Verbose                         BF International, Las Piñas City\n",
       "Longitude                                                      121.009787\n",
       "Latitude                                                        14.447615\n",
       "Cuisines                                                          Italian\n",
       "Average Cost for two                                                 1100\n",
       "Currency                                                 Botswana Pula(P)\n",
       "Has Table booking                                                       1\n",
       "Has Online delivery                                                     0\n",
       "Is delivering now                                                       0\n",
       "Switch to order menu                                                    0\n",
       "Price range                                                             3\n",
       "Aggregate rating                                                      4.6\n",
       "Rating color                                                       3F7E00\n",
       "Rating text                                                     Excellent\n",
       "Votes                                                                 619\n",
       "Country Name                                                  Philippines\n",
       "Name: 0, dtype: object"
      ]
     },
     "execution_count": 7,
     "metadata": {},
     "output_type": "execute_result"
    }
   ],
   "source": [
    "df.loc[0, :]"
   ]
  },
  {
   "cell_type": "code",
   "execution_count": 33,
   "id": "6e8fb266",
   "metadata": {},
   "outputs": [
    {
     "name": "stdout",
     "output_type": "stream",
     "text": [
      "['Country Name', 'Mean Ratings']\n"
     ]
    },
    {
     "data": {
      "text/html": [
       "<div>\n",
       "<style scoped>\n",
       "    .dataframe tbody tr th:only-of-type {\n",
       "        vertical-align: middle;\n",
       "    }\n",
       "\n",
       "    .dataframe tbody tr th {\n",
       "        vertical-align: top;\n",
       "    }\n",
       "\n",
       "    .dataframe thead th {\n",
       "        text-align: right;\n",
       "    }\n",
       "</style>\n",
       "<table border=\"1\" class=\"dataframe\">\n",
       "  <thead>\n",
       "    <tr style=\"text-align: right;\">\n",
       "      <th></th>\n",
       "      <th>Country Name</th>\n",
       "      <th>Mean Ratings</th>\n",
       "    </tr>\n",
       "  </thead>\n",
       "  <tbody>\n",
       "    <tr>\n",
       "      <th>0</th>\n",
       "      <td>Australia</td>\n",
       "      <td>1.322222</td>\n",
       "    </tr>\n",
       "    <tr>\n",
       "      <th>1</th>\n",
       "      <td>Brazil</td>\n",
       "      <td>1.279693</td>\n",
       "    </tr>\n",
       "    <tr>\n",
       "      <th>2</th>\n",
       "      <td>Canada</td>\n",
       "      <td>1.033333</td>\n",
       "    </tr>\n",
       "    <tr>\n",
       "      <th>3</th>\n",
       "      <td>England</td>\n",
       "      <td>1.954233</td>\n",
       "    </tr>\n",
       "    <tr>\n",
       "      <th>4</th>\n",
       "      <td>India</td>\n",
       "      <td>15.440262</td>\n",
       "    </tr>\n",
       "    <tr>\n",
       "      <th>5</th>\n",
       "      <td>Indonesia</td>\n",
       "      <td>2.560976</td>\n",
       "    </tr>\n",
       "    <tr>\n",
       "      <th>6</th>\n",
       "      <td>New Zeland</td>\n",
       "      <td>1.256917</td>\n",
       "    </tr>\n",
       "    <tr>\n",
       "      <th>7</th>\n",
       "      <td>Philippines</td>\n",
       "      <td>2.363636</td>\n",
       "    </tr>\n",
       "    <tr>\n",
       "      <th>8</th>\n",
       "      <td>Qatar</td>\n",
       "      <td>3.244681</td>\n",
       "    </tr>\n",
       "    <tr>\n",
       "      <th>9</th>\n",
       "      <td>Singapure</td>\n",
       "      <td>1.073171</td>\n",
       "    </tr>\n",
       "    <tr>\n",
       "      <th>10</th>\n",
       "      <td>South Africa</td>\n",
       "      <td>1.743455</td>\n",
       "    </tr>\n",
       "    <tr>\n",
       "      <th>11</th>\n",
       "      <td>Sri Lanka</td>\n",
       "      <td>1.643678</td>\n",
       "    </tr>\n",
       "    <tr>\n",
       "      <th>12</th>\n",
       "      <td>Turkey</td>\n",
       "      <td>1.393939</td>\n",
       "    </tr>\n",
       "    <tr>\n",
       "      <th>13</th>\n",
       "      <td>United Arab Emirates</td>\n",
       "      <td>3.341317</td>\n",
       "    </tr>\n",
       "    <tr>\n",
       "      <th>14</th>\n",
       "      <td>United States of America</td>\n",
       "      <td>1.357706</td>\n",
       "    </tr>\n",
       "  </tbody>\n",
       "</table>\n",
       "</div>"
      ],
      "text/plain": [
       "                Country Name  Mean Ratings\n",
       "0                  Australia      1.322222\n",
       "1                     Brazil      1.279693\n",
       "2                     Canada      1.033333\n",
       "3                    England      1.954233\n",
       "4                      India     15.440262\n",
       "5                  Indonesia      2.560976\n",
       "6                 New Zeland      1.256917\n",
       "7                Philippines      2.363636\n",
       "8                      Qatar      3.244681\n",
       "9                  Singapure      1.073171\n",
       "10              South Africa      1.743455\n",
       "11                 Sri Lanka      1.643678\n",
       "12                    Turkey      1.393939\n",
       "13      United Arab Emirates      3.341317\n",
       "14  United States of America      1.357706"
      ]
     },
     "execution_count": 33,
     "metadata": {},
     "output_type": "execute_result"
    }
   ],
   "source": [
    "linha = df['Rating text'] != 'Not rated'\n",
    "df.loc[linha, :]\n",
    "df['Mean Ratings'] = (\n",
    "            df.loc[:, ['Restaurant Name', 'Rating text']]\n",
    "            .groupby('Restaurant Name')\n",
    "            .transform('count')['Rating text']\n",
    "        )\n",
    "\n",
    "        # Agrupando por país e calculando média\n",
    "df_aux3 = (\n",
    "            df.groupby('Country Name', as_index=False)['Mean Ratings']\n",
    "            .mean()\n",
    "        )\n",
    "\n",
    "        # Verificando colunas existentes\n",
    "print(df_aux3.columns.tolist())\n",
    "df_aux3"
   ]
  },
  {
   "cell_type": "code",
   "execution_count": null,
   "id": "d99e56d3",
   "metadata": {},
   "outputs": [
    {
     "name": "stdout",
     "output_type": "stream",
     "text": [
      "O nome do país com mais restaurantes de nível de preço maior ou igual a 4 é United States of America\n"
     ]
    }
   ],
   "source": [
    "# 1️⃣ Filtrar apenas restaurantes com Price range >= 4\n",
    "df_filtrado = df.loc[df['Price range'] >= 4, ['Country Name', 'Price range']]\n",
    "\n",
    "# 2️⃣ Agrupar por código do país e contar quantos restaurantes em cada\n",
    "df_contagem = (\n",
    "    df_filtrado\n",
    "    .groupby('Country Name')\n",
    "    .size()              # ou use .count(), pois só há Price range\n",
    "    .reset_index(name='contagem')\n",
    ")\n",
    "\n",
    "# 3️⃣ Encontrar o valor máximo de contagem\n",
    "max_contagem = df_contagem['contagem'].max()\n",
    "\n",
    "# 4️⃣ Filtrar para obter o(s) país(es) que possuem essa contagem máxima\n",
    "df_top = df_contagem.loc[df_contagem['contagem'] == max_contagem, :]\n",
    "\n",
    "# 5️⃣ Exibir o resultado\n",
    "pais_top = df_top['Country Name'].reset_index()\n",
    "print(f'O nome do país com mais restaurantes de nível de preço maior ou igual a 4 é {pais_top['Country Name'].max()}')"
   ]
  },
  {
   "cell_type": "markdown",
   "id": "97b4224c",
   "metadata": {},
   "source": [
    "## Qual o nome do país que possui a maior quantidade de tipos de culinária distintos"
   ]
  },
  {
   "cell_type": "code",
   "execution_count": null,
   "metadata": {},
   "outputs": [],
   "source": []
  },
  {
   "cell_type": "markdown",
   "id": "f4be65ee",
   "metadata": {},
   "source": [
    "## Qual o nome do país que possui a maior quantidade de avaliações feitas"
   ]
  },
  {
   "cell_type": "code",
   "execution_count": 15,
   "id": "f79d8310",
   "metadata": {},
   "outputs": [
    {
     "name": "stdout",
     "output_type": "stream",
     "text": [
      "O código do país com mais avaliações é o país 1\n"
     ]
    }
   ],
   "source": [
    "df_filtrado = df.loc[:, ['Country Code', 'Rating text']].copy()\n",
    "\n",
    "df_contagem = (\n",
    "    df_filtrado\n",
    "    .groupby('Country Code')\n",
    "    .count()  \n",
    "    .reset_index()\n",
    ")\n",
    "\n",
    "max_contagem = df_contagem['Rating text'].max()\n",
    "\n",
    "df_top = df_contagem[df_contagem['Rating text'] == max_contagem]\n",
    "\n",
    "paises = df_top['Country Code'].tolist()\n",
    "print(f'O código do país com mais avaliações é o país {paises[0]}')"
   ]
  },
  {
   "cell_type": "markdown",
   "id": "e73fdb41",
   "metadata": {},
   "source": [
    "## Qual o nome do país que possui a maior quantidade de restaurantes que fazem entrega"
   ]
  },
  {
   "cell_type": "code",
   "execution_count": 38,
   "metadata": {},
   "outputs": [
    {
     "data": {
      "text/plain": [
       "Index(['Restaurant ID', 'Restaurant Name', 'Country Code', 'City', 'Address',\n",
       "       'Locality', 'Locality Verbose', 'Longitude', 'Latitude', 'Cuisines',\n",
       "       'Average Cost for two', 'Currency', 'Has Table booking',\n",
       "       'Has Online delivery', 'Is delivering now', 'Switch to order menu',\n",
       "       'Price range', 'Aggregate rating', 'Rating color', 'Rating text',\n",
       "       'Votes', 'Country Name'],\n",
       "      dtype='object')"
      ]
     },
     "execution_count": 38,
     "metadata": {},
     "output_type": "execute_result"
    }
   ],
   "source": [
    "df.columns"
   ]
  },
  {
   "cell_type": "code",
   "execution_count": 51,
   "id": "36007212",
   "metadata": {},
   "outputs": [
    {
     "name": "stdout",
     "output_type": "stream",
     "text": [
      "O código do país com mais restaurantes que fazem entrega é o 1\n"
     ]
    }
   ],
   "source": [
    "linha = df.loc[df['Has Online delivery'] == 1, :]\n",
    "df_aux = linha\n",
    "df_aux2 = df_aux.loc[:, ['Has Online delivery', 'Country Code']].groupby('Country Code').count().reset_index()\n",
    "pais = df_aux2[df_aux2['Has Online delivery'] == df_aux2['Has Online delivery'].max()]['Country Code']\n",
    "print(f'O código do país com mais restaurantes que fazem entrega é o {pais.max()}')"
   ]
  },
  {
   "cell_type": "markdown",
   "id": "72906d80",
   "metadata": {},
   "source": [
    "## Qual o nome do país que possui a maior quantidade de restaurantes que aceitam reservas"
   ]
  },
  {
   "cell_type": "code",
   "execution_count": null,
   "id": "9f2cdb12",
   "metadata": {},
   "outputs": [],
   "source": []
  }
 ],
 "metadata": {
  "kernelspec": {
   "display_name": "env (3.13.1)",
   "language": "python",
   "name": "python3"
  },
  "language_info": {
   "codemirror_mode": {
    "name": "ipython",
    "version": 3
   },
   "file_extension": ".py",
   "mimetype": "text/x-python",
   "name": "python",
   "nbconvert_exporter": "python",
   "pygments_lexer": "ipython3",
   "version": "3.13.1"
  }
 },
 "nbformat": 4,
 "nbformat_minor": 5
}
